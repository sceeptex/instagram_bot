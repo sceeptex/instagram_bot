{
 "cells": [
  {
   "cell_type": "code",
   "execution_count": 2,
   "metadata": {},
   "outputs": [],
   "source": [
    "# !pip install igramscraper"
   ]
  },
  {
   "cell_type": "code",
   "execution_count": 2,
   "metadata": {},
   "outputs": [
    {
     "name": "stdout",
     "output_type": "stream",
     "text": [
      "Account info:\n",
      "Id:  1520429034\n",
      "Username:  mannheimgram\n",
      "Full name:  #mannheimgram\n",
      "Biography:  Instagramers Mannheim • Zeigt uns euer Mannheim und taggt eure Bilder mit #mannheimgram!\n",
      "Admin's: @isitfiction\n",
      "                @m_brand_photography\n",
      "Profile pic url:  https://scontent-muc2-1.cdninstagram.com/v/t51.2885-19/271121382_626564388680062_7840202211478295581_n.jpg?stp=dst-jpg_s320x320&_nc_ht=scontent-muc2-1.cdninstagram.com&_nc_cat=110&_nc_ohc=XxVTUS2gSacAX-a6XU2&edm=ABfd0MgBAAAA&ccb=7-4&oh=00_AT-Aa2wGdZRWfsahVmyGK9okRf9l2mTkJDqBuWqrQnIOhw&oe=62878300&_nc_sid=7bff83\n",
      "External Url:  None\n",
      "Number of published posts:  1564\n",
      "Number of followers:  11478\n",
      "Number of follows:  593\n",
      "Is private:  False\n",
      "Is verified:  False\n",
      "\n",
      "        Account info:\n",
      "        Id: 1520429034\n",
      "        Username: mannheimgram\n",
      "        Full Name: #mannheimgram\n",
      "        Bio: Instagramers Mannheim • Zeigt uns euer Mannheim und taggt eure Bilder mit #mannheimgram!\n",
      "Admin's: @isitfiction\n",
      "                @m_brand_photography\n",
      "        Profile Pic Url: https://scontent-muc2-1.cdninstagram.com/v/t51.2885-19/271121382_626564388680062_7840202211478295581_n.jpg?stp=dst-jpg_s320x320&_nc_ht=scontent-muc2-1.cdninstagram.com&_nc_cat=110&_nc_ohc=XxVTUS2gSacAX-a6XU2&edm=ABfd0MgBAAAA&ccb=7-4&oh=00_AT-Aa2wGdZRWfsahVmyGK9okRf9l2mTkJDqBuWqrQnIOhw&oe=62878300&_nc_sid=7bff83\n",
      "        External url: None\n",
      "        Number of published posts: 1564\n",
      "        Number of followers: 11478\n",
      "        Number of follows: 593\n",
      "        Is private: False\n",
      "        Is verified: False\n",
      "\n"
     ]
    }
   ],
   "source": [
    "from igramscraper.instagram import Instagram\n",
    "\n",
    "instagram = Instagram()\n",
    "\n",
    "# authentication supported\n",
    "# instagram.with_credentials('username', 'password')\n",
    "# instagram.login()\n",
    "\n",
    "#Getting an account by id\n",
    "# account = instagram.get_account_by_id('https://www.instagram.com/mannheimgram')\n",
    "\n",
    "account = instagram.get_account('mannheimgram')\n",
    "\n",
    "# Available fields\n",
    "print('Account info:')\n",
    "print('Id: ', account.identifier)\n",
    "print('Username: ', account.username)\n",
    "print('Full name: ', account.full_name)\n",
    "print('Biography: ', account.biography)\n",
    "print('Profile pic url: ', account.get_profile_picture_url())\n",
    "print('External Url: ', account.external_url)\n",
    "print('Number of published posts: ', account.media_count)\n",
    "print('Number of followers: ', account.followed_by_count)\n",
    "print('Number of follows: ', account.follows_count)\n",
    "print('Is private: ', account.is_private)\n",
    "print('Is verified: ', account.is_verified)\n",
    "\n",
    "# or simply for printing use \n",
    "print(account)\n"
   ]
  },
  {
   "cell_type": "markdown",
   "metadata": {},
   "source": [
    "# get_account_medias_by_username\n",
    "https://github.com/realsirjoe/instagram-scraper/blob/master/examples/get_account_medias_by_username.py"
   ]
  },
  {
   "cell_type": "code",
   "execution_count": null,
   "metadata": {},
   "outputs": [],
   "source": []
  },
  {
   "cell_type": "markdown",
   "metadata": {},
   "source": [
    "# get_current_top_medias_by_location_id"
   ]
  },
  {
   "cell_type": "markdown",
   "metadata": {},
   "source": [
    "# get_current_top_medias_by_tag_name"
   ]
  },
  {
   "cell_type": "code",
   "execution_count": null,
   "metadata": {},
   "outputs": [],
   "source": []
  }
 ],
 "metadata": {
  "kernelspec": {
   "display_name": "Python 3.9.12 ('insta2')",
   "language": "python",
   "name": "python3"
  },
  "language_info": {
   "codemirror_mode": {
    "name": "ipython",
    "version": 3
   },
   "file_extension": ".py",
   "mimetype": "text/x-python",
   "name": "python",
   "nbconvert_exporter": "python",
   "pygments_lexer": "ipython3",
   "version": "3.9.12"
  },
  "orig_nbformat": 4,
  "vscode": {
   "interpreter": {
    "hash": "1b40e149f8e2afba4204ee02dfff452dce68b36e57f73d0dee502036a72b00fe"
   }
  }
 },
 "nbformat": 4,
 "nbformat_minor": 2
}
